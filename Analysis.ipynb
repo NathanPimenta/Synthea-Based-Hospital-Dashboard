{
 "cells": [
  {
   "cell_type": "code",
   "execution_count": 32,
   "id": "99f0dc40-b4cd-43fb-a0ad-1a5f874fc635",
   "metadata": {},
   "outputs": [],
   "source": [
    "import seaborn as sns\n",
    "import matplotlib.pyplot as plt\n",
    "import numpy as np\n",
    "import pandas as pd\n",
    "import scipy as spy\n",
    "from datetime import datetime\n",
    "from sklearn.preprocessing import LabelEncoder\n",
    "import plotly.express as px"
   ]
  },
  {
   "cell_type": "code",
   "execution_count": 33,
   "id": "328d12b4-3c73-4f8d-aaad-d13829a04bf5",
   "metadata": {},
   "outputs": [],
   "source": [
    "le = LabelEncoder()"
   ]
  },
  {
   "cell_type": "code",
   "execution_count": 34,
   "id": "09e148d6-1a59-4076-a9a0-b31743af346c",
   "metadata": {},
   "outputs": [
    {
     "data": {
      "text/html": [
       "<div>\n",
       "<style scoped>\n",
       "    .dataframe tbody tr th:only-of-type {\n",
       "        vertical-align: middle;\n",
       "    }\n",
       "\n",
       "    .dataframe tbody tr th {\n",
       "        vertical-align: top;\n",
       "    }\n",
       "\n",
       "    .dataframe thead th {\n",
       "        text-align: right;\n",
       "    }\n",
       "</style>\n",
       "<table border=\"1\" class=\"dataframe\">\n",
       "  <thead>\n",
       "    <tr style=\"text-align: right;\">\n",
       "      <th></th>\n",
       "      <th>patientid</th>\n",
       "      <th>age</th>\n",
       "      <th>gender</th>\n",
       "      <th>department</th>\n",
       "      <th>diagnosis</th>\n",
       "      <th>admissiondate</th>\n",
       "      <th>dischargedate</th>\n",
       "      <th>treatmentcost</th>\n",
       "      <th>doctorname</th>\n",
       "      <th>readmitted</th>\n",
       "      <th>city</th>\n",
       "      <th>severity</th>\n",
       "      <th>insuranceprovider</th>\n",
       "      <th>treatmenttype</th>\n",
       "      <th>bedtype</th>\n",
       "      <th>paymentmethod</th>\n",
       "      <th>satisfactionscore</th>\n",
       "      <th>length_of_stay</th>\n",
       "      <th>age_group</th>\n",
       "    </tr>\n",
       "  </thead>\n",
       "  <tbody>\n",
       "    <tr>\n",
       "      <th>0</th>\n",
       "      <td>P0001</td>\n",
       "      <td>38</td>\n",
       "      <td>Male</td>\n",
       "      <td>Orthopedics</td>\n",
       "      <td>Fracture</td>\n",
       "      <td>2024-01-19</td>\n",
       "      <td>2024-01-30</td>\n",
       "      <td>89503</td>\n",
       "      <td>Dr. Mehta</td>\n",
       "      <td>Yes</td>\n",
       "      <td>Kolkata</td>\n",
       "      <td>Moderate</td>\n",
       "      <td>LIC Health</td>\n",
       "      <td>Surgery</td>\n",
       "      <td>General</td>\n",
       "      <td>Insurance</td>\n",
       "      <td>3</td>\n",
       "      <td>11</td>\n",
       "      <td>Adult (18-64)</td>\n",
       "    </tr>\n",
       "    <tr>\n",
       "      <th>1</th>\n",
       "      <td>P0002</td>\n",
       "      <td>57</td>\n",
       "      <td>Male</td>\n",
       "      <td>Pediatrics</td>\n",
       "      <td>Asthma</td>\n",
       "      <td>2024-07-01</td>\n",
       "      <td>2024-07-06</td>\n",
       "      <td>23659</td>\n",
       "      <td>Dr. Banerjee</td>\n",
       "      <td>Yes</td>\n",
       "      <td>Chennai</td>\n",
       "      <td>Severe</td>\n",
       "      <td>Star Health</td>\n",
       "      <td>Observation</td>\n",
       "      <td>Private</td>\n",
       "      <td>Online</td>\n",
       "      <td>1</td>\n",
       "      <td>5</td>\n",
       "      <td>Adult (18-64)</td>\n",
       "    </tr>\n",
       "    <tr>\n",
       "      <th>2</th>\n",
       "      <td>P0003</td>\n",
       "      <td>32</td>\n",
       "      <td>Female</td>\n",
       "      <td>Neurology</td>\n",
       "      <td>Stroke</td>\n",
       "      <td>2024-02-19</td>\n",
       "      <td>2024-03-04</td>\n",
       "      <td>316652</td>\n",
       "      <td>Dr. Iyer</td>\n",
       "      <td>Yes</td>\n",
       "      <td>Delhi</td>\n",
       "      <td>Mild</td>\n",
       "      <td>Star Health</td>\n",
       "      <td>Observation</td>\n",
       "      <td>General</td>\n",
       "      <td>Cash</td>\n",
       "      <td>6</td>\n",
       "      <td>14</td>\n",
       "      <td>Adult (18-64)</td>\n",
       "    </tr>\n",
       "    <tr>\n",
       "      <th>3</th>\n",
       "      <td>P0004</td>\n",
       "      <td>22</td>\n",
       "      <td>Male</td>\n",
       "      <td>Orthopedics</td>\n",
       "      <td>Joint Replacement</td>\n",
       "      <td>2024-03-05</td>\n",
       "      <td>2024-03-10</td>\n",
       "      <td>74980</td>\n",
       "      <td>Dr. Singh</td>\n",
       "      <td>Yes</td>\n",
       "      <td>Chennai</td>\n",
       "      <td>Mild</td>\n",
       "      <td>ICICI Lombard</td>\n",
       "      <td>Therapy</td>\n",
       "      <td>Semi-Private</td>\n",
       "      <td>Credit Card</td>\n",
       "      <td>9</td>\n",
       "      <td>5</td>\n",
       "      <td>Adult (18-64)</td>\n",
       "    </tr>\n",
       "    <tr>\n",
       "      <th>4</th>\n",
       "      <td>P0005</td>\n",
       "      <td>46</td>\n",
       "      <td>Female</td>\n",
       "      <td>Pediatrics</td>\n",
       "      <td>Asthma</td>\n",
       "      <td>2024-05-03</td>\n",
       "      <td>2024-05-08</td>\n",
       "      <td>92331</td>\n",
       "      <td>Dr. Iyer</td>\n",
       "      <td>Yes</td>\n",
       "      <td>Mumbai</td>\n",
       "      <td>Moderate</td>\n",
       "      <td>ICICI Lombard</td>\n",
       "      <td>Surgery</td>\n",
       "      <td>ICU</td>\n",
       "      <td>Credit Card</td>\n",
       "      <td>8</td>\n",
       "      <td>5</td>\n",
       "      <td>Adult (18-64)</td>\n",
       "    </tr>\n",
       "    <tr>\n",
       "      <th>...</th>\n",
       "      <td>...</td>\n",
       "      <td>...</td>\n",
       "      <td>...</td>\n",
       "      <td>...</td>\n",
       "      <td>...</td>\n",
       "      <td>...</td>\n",
       "      <td>...</td>\n",
       "      <td>...</td>\n",
       "      <td>...</td>\n",
       "      <td>...</td>\n",
       "      <td>...</td>\n",
       "      <td>...</td>\n",
       "      <td>...</td>\n",
       "      <td>...</td>\n",
       "      <td>...</td>\n",
       "      <td>...</td>\n",
       "      <td>...</td>\n",
       "      <td>...</td>\n",
       "      <td>...</td>\n",
       "    </tr>\n",
       "    <tr>\n",
       "      <th>995</th>\n",
       "      <td>P0996</td>\n",
       "      <td>88</td>\n",
       "      <td>Female</td>\n",
       "      <td>Cardiology</td>\n",
       "      <td>Arrhythmia</td>\n",
       "      <td>2025-07-28</td>\n",
       "      <td>2025-08-05</td>\n",
       "      <td>77977</td>\n",
       "      <td>Dr. Sharma</td>\n",
       "      <td>No</td>\n",
       "      <td>Hyderabad</td>\n",
       "      <td>Moderate</td>\n",
       "      <td>LIC Health</td>\n",
       "      <td>Medication</td>\n",
       "      <td>General</td>\n",
       "      <td>Cash</td>\n",
       "      <td>7</td>\n",
       "      <td>8</td>\n",
       "      <td>Senior (65+)</td>\n",
       "    </tr>\n",
       "    <tr>\n",
       "      <th>996</th>\n",
       "      <td>P0997</td>\n",
       "      <td>66</td>\n",
       "      <td>Male</td>\n",
       "      <td>Orthopedics</td>\n",
       "      <td>Joint Replacement</td>\n",
       "      <td>2024-01-16</td>\n",
       "      <td>2024-01-25</td>\n",
       "      <td>141590</td>\n",
       "      <td>Dr. Banerjee</td>\n",
       "      <td>Yes</td>\n",
       "      <td>Chennai</td>\n",
       "      <td>Severe</td>\n",
       "      <td>LIC Health</td>\n",
       "      <td>Observation</td>\n",
       "      <td>General</td>\n",
       "      <td>Credit Card</td>\n",
       "      <td>7</td>\n",
       "      <td>9</td>\n",
       "      <td>Senior (65+)</td>\n",
       "    </tr>\n",
       "    <tr>\n",
       "      <th>997</th>\n",
       "      <td>P0998</td>\n",
       "      <td>12</td>\n",
       "      <td>Female</td>\n",
       "      <td>General Surgery</td>\n",
       "      <td>Gallstones</td>\n",
       "      <td>2024-07-27</td>\n",
       "      <td>2024-08-10</td>\n",
       "      <td>143001</td>\n",
       "      <td>Dr. Banerjee</td>\n",
       "      <td>No</td>\n",
       "      <td>Mumbai</td>\n",
       "      <td>Severe</td>\n",
       "      <td>HDFC Ergo</td>\n",
       "      <td>Therapy</td>\n",
       "      <td>Private</td>\n",
       "      <td>Credit Card</td>\n",
       "      <td>7</td>\n",
       "      <td>14</td>\n",
       "      <td>Pediatric (0-17)</td>\n",
       "    </tr>\n",
       "    <tr>\n",
       "      <th>998</th>\n",
       "      <td>P0999</td>\n",
       "      <td>12</td>\n",
       "      <td>Male</td>\n",
       "      <td>Neurology</td>\n",
       "      <td>Migraine</td>\n",
       "      <td>2024-06-10</td>\n",
       "      <td>2024-06-12</td>\n",
       "      <td>227324</td>\n",
       "      <td>Dr. Khan</td>\n",
       "      <td>Yes</td>\n",
       "      <td>Bengaluru</td>\n",
       "      <td>Severe</td>\n",
       "      <td>New India Assurance</td>\n",
       "      <td>Surgery</td>\n",
       "      <td>General</td>\n",
       "      <td>Insurance</td>\n",
       "      <td>6</td>\n",
       "      <td>2</td>\n",
       "      <td>Pediatric (0-17)</td>\n",
       "    </tr>\n",
       "    <tr>\n",
       "      <th>999</th>\n",
       "      <td>P1000</td>\n",
       "      <td>77</td>\n",
       "      <td>Male</td>\n",
       "      <td>Neurology</td>\n",
       "      <td>Epilepsy</td>\n",
       "      <td>2025-03-04</td>\n",
       "      <td>2025-03-13</td>\n",
       "      <td>31950</td>\n",
       "      <td>Dr. Sharma</td>\n",
       "      <td>No</td>\n",
       "      <td>Chennai</td>\n",
       "      <td>Moderate</td>\n",
       "      <td>New India Assurance</td>\n",
       "      <td>Observation</td>\n",
       "      <td>Semi-Private</td>\n",
       "      <td>Cash</td>\n",
       "      <td>6</td>\n",
       "      <td>9</td>\n",
       "      <td>Senior (65+)</td>\n",
       "    </tr>\n",
       "  </tbody>\n",
       "</table>\n",
       "<p>1000 rows × 19 columns</p>\n",
       "</div>"
      ],
      "text/plain": [
       "    patientid  age  gender       department          diagnosis admissiondate  \\\n",
       "0       P0001   38    Male      Orthopedics           Fracture    2024-01-19   \n",
       "1       P0002   57    Male       Pediatrics             Asthma    2024-07-01   \n",
       "2       P0003   32  Female        Neurology             Stroke    2024-02-19   \n",
       "3       P0004   22    Male      Orthopedics  Joint Replacement    2024-03-05   \n",
       "4       P0005   46  Female       Pediatrics             Asthma    2024-05-03   \n",
       "..        ...  ...     ...              ...                ...           ...   \n",
       "995     P0996   88  Female       Cardiology         Arrhythmia    2025-07-28   \n",
       "996     P0997   66    Male      Orthopedics  Joint Replacement    2024-01-16   \n",
       "997     P0998   12  Female  General Surgery         Gallstones    2024-07-27   \n",
       "998     P0999   12    Male        Neurology           Migraine    2024-06-10   \n",
       "999     P1000   77    Male        Neurology           Epilepsy    2025-03-04   \n",
       "\n",
       "    dischargedate  treatmentcost    doctorname readmitted       city  \\\n",
       "0      2024-01-30          89503     Dr. Mehta        Yes    Kolkata   \n",
       "1      2024-07-06          23659  Dr. Banerjee        Yes    Chennai   \n",
       "2      2024-03-04         316652      Dr. Iyer        Yes      Delhi   \n",
       "3      2024-03-10          74980     Dr. Singh        Yes    Chennai   \n",
       "4      2024-05-08          92331      Dr. Iyer        Yes     Mumbai   \n",
       "..            ...            ...           ...        ...        ...   \n",
       "995    2025-08-05          77977    Dr. Sharma         No  Hyderabad   \n",
       "996    2024-01-25         141590  Dr. Banerjee        Yes    Chennai   \n",
       "997    2024-08-10         143001  Dr. Banerjee         No     Mumbai   \n",
       "998    2024-06-12         227324      Dr. Khan        Yes  Bengaluru   \n",
       "999    2025-03-13          31950    Dr. Sharma         No    Chennai   \n",
       "\n",
       "     severity    insuranceprovider treatmenttype       bedtype paymentmethod  \\\n",
       "0    Moderate           LIC Health       Surgery       General     Insurance   \n",
       "1      Severe          Star Health   Observation       Private        Online   \n",
       "2        Mild          Star Health   Observation       General          Cash   \n",
       "3        Mild        ICICI Lombard       Therapy  Semi-Private   Credit Card   \n",
       "4    Moderate        ICICI Lombard       Surgery           ICU   Credit Card   \n",
       "..        ...                  ...           ...           ...           ...   \n",
       "995  Moderate           LIC Health    Medication       General          Cash   \n",
       "996    Severe           LIC Health   Observation       General   Credit Card   \n",
       "997    Severe            HDFC Ergo       Therapy       Private   Credit Card   \n",
       "998    Severe  New India Assurance       Surgery       General     Insurance   \n",
       "999  Moderate  New India Assurance   Observation  Semi-Private          Cash   \n",
       "\n",
       "     satisfactionscore  length_of_stay         age_group  \n",
       "0                    3              11     Adult (18-64)  \n",
       "1                    1               5     Adult (18-64)  \n",
       "2                    6              14     Adult (18-64)  \n",
       "3                    9               5     Adult (18-64)  \n",
       "4                    8               5     Adult (18-64)  \n",
       "..                 ...             ...               ...  \n",
       "995                  7               8      Senior (65+)  \n",
       "996                  7               9      Senior (65+)  \n",
       "997                  7              14  Pediatric (0-17)  \n",
       "998                  6               2  Pediatric (0-17)  \n",
       "999                  6               9      Senior (65+)  \n",
       "\n",
       "[1000 rows x 19 columns]"
      ]
     },
     "execution_count": 34,
     "metadata": {},
     "output_type": "execute_result"
    }
   ],
   "source": [
    "data = pd.read_csv('Datasets/HCP.csv')\n",
    "data"
   ]
  },
  {
   "cell_type": "code",
   "execution_count": 35,
   "id": "cefcfbfd-7fb6-4ef1-93a0-5860c68e2437",
   "metadata": {},
   "outputs": [
    {
     "data": {
      "text/plain": [
       "patientid            object\n",
       "age                   int64\n",
       "gender               object\n",
       "department           object\n",
       "diagnosis            object\n",
       "admissiondate        object\n",
       "dischargedate        object\n",
       "treatmentcost         int64\n",
       "doctorname           object\n",
       "readmitted           object\n",
       "city                 object\n",
       "severity             object\n",
       "insuranceprovider    object\n",
       "treatmenttype        object\n",
       "bedtype              object\n",
       "paymentmethod        object\n",
       "satisfactionscore     int64\n",
       "length_of_stay        int64\n",
       "age_group            object\n",
       "dtype: object"
      ]
     },
     "execution_count": 35,
     "metadata": {},
     "output_type": "execute_result"
    }
   ],
   "source": [
    "#Analysis no: 1: Growth of readmission rates over the months\n",
    "data.dtypes"
   ]
  },
  {
   "cell_type": "code",
   "execution_count": 36,
   "id": "cf88a1c0-38df-4395-8a87-ceb986f72c8e",
   "metadata": {},
   "outputs": [
    {
     "data": {
      "text/plain": [
       "Index(['patientid', 'age', 'gender', 'department', 'diagnosis',\n",
       "       'admissiondate', 'dischargedate', 'treatmentcost', 'doctorname',\n",
       "       'readmitted', 'city', 'severity', 'insuranceprovider', 'treatmenttype',\n",
       "       'bedtype', 'paymentmethod', 'satisfactionscore', 'length_of_stay',\n",
       "       'age_group'],\n",
       "      dtype='object')"
      ]
     },
     "execution_count": 36,
     "metadata": {},
     "output_type": "execute_result"
    }
   ],
   "source": [
    "data.columns"
   ]
  },
  {
   "cell_type": "code",
   "execution_count": 37,
   "id": "a036d4f8-9ee3-4d53-bd27-41b420ecf505",
   "metadata": {},
   "outputs": [
    {
     "data": {
      "text/html": [
       "<div>\n",
       "<style scoped>\n",
       "    .dataframe tbody tr th:only-of-type {\n",
       "        vertical-align: middle;\n",
       "    }\n",
       "\n",
       "    .dataframe tbody tr th {\n",
       "        vertical-align: top;\n",
       "    }\n",
       "\n",
       "    .dataframe thead th {\n",
       "        text-align: right;\n",
       "    }\n",
       "</style>\n",
       "<table border=\"1\" class=\"dataframe\">\n",
       "  <thead>\n",
       "    <tr style=\"text-align: right;\">\n",
       "      <th></th>\n",
       "      <th>patientid</th>\n",
       "      <th>age</th>\n",
       "      <th>gender</th>\n",
       "      <th>department</th>\n",
       "      <th>diagnosis</th>\n",
       "      <th>admissiondate</th>\n",
       "      <th>dischargedate</th>\n",
       "      <th>treatmentcost</th>\n",
       "      <th>doctorname</th>\n",
       "      <th>readmitted</th>\n",
       "      <th>city</th>\n",
       "      <th>severity</th>\n",
       "      <th>insuranceprovider</th>\n",
       "      <th>treatmenttype</th>\n",
       "      <th>bedtype</th>\n",
       "      <th>paymentmethod</th>\n",
       "      <th>satisfactionscore</th>\n",
       "      <th>length_of_stay</th>\n",
       "      <th>age_group</th>\n",
       "      <th>Month</th>\n",
       "    </tr>\n",
       "  </thead>\n",
       "  <tbody>\n",
       "    <tr>\n",
       "      <th>0</th>\n",
       "      <td>P0001</td>\n",
       "      <td>38</td>\n",
       "      <td>Male</td>\n",
       "      <td>Orthopedics</td>\n",
       "      <td>Fracture</td>\n",
       "      <td>2024-01-19</td>\n",
       "      <td>2024-01-30</td>\n",
       "      <td>89503</td>\n",
       "      <td>Dr. Mehta</td>\n",
       "      <td>Yes</td>\n",
       "      <td>Kolkata</td>\n",
       "      <td>Moderate</td>\n",
       "      <td>LIC Health</td>\n",
       "      <td>Surgery</td>\n",
       "      <td>General</td>\n",
       "      <td>Insurance</td>\n",
       "      <td>3</td>\n",
       "      <td>11</td>\n",
       "      <td>Adult (18-64)</td>\n",
       "      <td>2</td>\n",
       "    </tr>\n",
       "    <tr>\n",
       "      <th>1</th>\n",
       "      <td>P0002</td>\n",
       "      <td>57</td>\n",
       "      <td>Male</td>\n",
       "      <td>Pediatrics</td>\n",
       "      <td>Asthma</td>\n",
       "      <td>2024-07-01</td>\n",
       "      <td>2024-07-06</td>\n",
       "      <td>23659</td>\n",
       "      <td>Dr. Banerjee</td>\n",
       "      <td>Yes</td>\n",
       "      <td>Chennai</td>\n",
       "      <td>Severe</td>\n",
       "      <td>Star Health</td>\n",
       "      <td>Observation</td>\n",
       "      <td>Private</td>\n",
       "      <td>Online</td>\n",
       "      <td>1</td>\n",
       "      <td>5</td>\n",
       "      <td>Adult (18-64)</td>\n",
       "      <td>8</td>\n",
       "    </tr>\n",
       "    <tr>\n",
       "      <th>2</th>\n",
       "      <td>P0003</td>\n",
       "      <td>32</td>\n",
       "      <td>Female</td>\n",
       "      <td>Neurology</td>\n",
       "      <td>Stroke</td>\n",
       "      <td>2024-02-19</td>\n",
       "      <td>2024-03-04</td>\n",
       "      <td>316652</td>\n",
       "      <td>Dr. Iyer</td>\n",
       "      <td>Yes</td>\n",
       "      <td>Delhi</td>\n",
       "      <td>Mild</td>\n",
       "      <td>Star Health</td>\n",
       "      <td>Observation</td>\n",
       "      <td>General</td>\n",
       "      <td>Cash</td>\n",
       "      <td>6</td>\n",
       "      <td>14</td>\n",
       "      <td>Adult (18-64)</td>\n",
       "      <td>4</td>\n",
       "    </tr>\n",
       "    <tr>\n",
       "      <th>3</th>\n",
       "      <td>P0004</td>\n",
       "      <td>22</td>\n",
       "      <td>Male</td>\n",
       "      <td>Orthopedics</td>\n",
       "      <td>Joint Replacement</td>\n",
       "      <td>2024-03-05</td>\n",
       "      <td>2024-03-10</td>\n",
       "      <td>74980</td>\n",
       "      <td>Dr. Singh</td>\n",
       "      <td>Yes</td>\n",
       "      <td>Chennai</td>\n",
       "      <td>Mild</td>\n",
       "      <td>ICICI Lombard</td>\n",
       "      <td>Therapy</td>\n",
       "      <td>Semi-Private</td>\n",
       "      <td>Credit Card</td>\n",
       "      <td>9</td>\n",
       "      <td>5</td>\n",
       "      <td>Adult (18-64)</td>\n",
       "      <td>4</td>\n",
       "    </tr>\n",
       "    <tr>\n",
       "      <th>4</th>\n",
       "      <td>P0005</td>\n",
       "      <td>46</td>\n",
       "      <td>Female</td>\n",
       "      <td>Pediatrics</td>\n",
       "      <td>Asthma</td>\n",
       "      <td>2024-05-03</td>\n",
       "      <td>2024-05-08</td>\n",
       "      <td>92331</td>\n",
       "      <td>Dr. Iyer</td>\n",
       "      <td>Yes</td>\n",
       "      <td>Mumbai</td>\n",
       "      <td>Moderate</td>\n",
       "      <td>ICICI Lombard</td>\n",
       "      <td>Surgery</td>\n",
       "      <td>ICU</td>\n",
       "      <td>Credit Card</td>\n",
       "      <td>8</td>\n",
       "      <td>5</td>\n",
       "      <td>Adult (18-64)</td>\n",
       "      <td>6</td>\n",
       "    </tr>\n",
       "    <tr>\n",
       "      <th>...</th>\n",
       "      <td>...</td>\n",
       "      <td>...</td>\n",
       "      <td>...</td>\n",
       "      <td>...</td>\n",
       "      <td>...</td>\n",
       "      <td>...</td>\n",
       "      <td>...</td>\n",
       "      <td>...</td>\n",
       "      <td>...</td>\n",
       "      <td>...</td>\n",
       "      <td>...</td>\n",
       "      <td>...</td>\n",
       "      <td>...</td>\n",
       "      <td>...</td>\n",
       "      <td>...</td>\n",
       "      <td>...</td>\n",
       "      <td>...</td>\n",
       "      <td>...</td>\n",
       "      <td>...</td>\n",
       "      <td>...</td>\n",
       "    </tr>\n",
       "    <tr>\n",
       "      <th>995</th>\n",
       "      <td>P0996</td>\n",
       "      <td>88</td>\n",
       "      <td>Female</td>\n",
       "      <td>Cardiology</td>\n",
       "      <td>Arrhythmia</td>\n",
       "      <td>2025-07-28</td>\n",
       "      <td>2025-08-05</td>\n",
       "      <td>77977</td>\n",
       "      <td>Dr. Sharma</td>\n",
       "      <td>No</td>\n",
       "      <td>Hyderabad</td>\n",
       "      <td>Moderate</td>\n",
       "      <td>LIC Health</td>\n",
       "      <td>Medication</td>\n",
       "      <td>General</td>\n",
       "      <td>Cash</td>\n",
       "      <td>7</td>\n",
       "      <td>8</td>\n",
       "      <td>Senior (65+)</td>\n",
       "      <td>9</td>\n",
       "    </tr>\n",
       "    <tr>\n",
       "      <th>996</th>\n",
       "      <td>P0997</td>\n",
       "      <td>66</td>\n",
       "      <td>Male</td>\n",
       "      <td>Orthopedics</td>\n",
       "      <td>Joint Replacement</td>\n",
       "      <td>2024-01-16</td>\n",
       "      <td>2024-01-25</td>\n",
       "      <td>141590</td>\n",
       "      <td>Dr. Banerjee</td>\n",
       "      <td>Yes</td>\n",
       "      <td>Chennai</td>\n",
       "      <td>Severe</td>\n",
       "      <td>LIC Health</td>\n",
       "      <td>Observation</td>\n",
       "      <td>General</td>\n",
       "      <td>Credit Card</td>\n",
       "      <td>7</td>\n",
       "      <td>9</td>\n",
       "      <td>Senior (65+)</td>\n",
       "      <td>2</td>\n",
       "    </tr>\n",
       "    <tr>\n",
       "      <th>997</th>\n",
       "      <td>P0998</td>\n",
       "      <td>12</td>\n",
       "      <td>Female</td>\n",
       "      <td>General Surgery</td>\n",
       "      <td>Gallstones</td>\n",
       "      <td>2024-07-27</td>\n",
       "      <td>2024-08-10</td>\n",
       "      <td>143001</td>\n",
       "      <td>Dr. Banerjee</td>\n",
       "      <td>No</td>\n",
       "      <td>Mumbai</td>\n",
       "      <td>Severe</td>\n",
       "      <td>HDFC Ergo</td>\n",
       "      <td>Therapy</td>\n",
       "      <td>Private</td>\n",
       "      <td>Credit Card</td>\n",
       "      <td>7</td>\n",
       "      <td>14</td>\n",
       "      <td>Pediatric (0-17)</td>\n",
       "      <td>9</td>\n",
       "    </tr>\n",
       "    <tr>\n",
       "      <th>998</th>\n",
       "      <td>P0999</td>\n",
       "      <td>12</td>\n",
       "      <td>Male</td>\n",
       "      <td>Neurology</td>\n",
       "      <td>Migraine</td>\n",
       "      <td>2024-06-10</td>\n",
       "      <td>2024-06-12</td>\n",
       "      <td>227324</td>\n",
       "      <td>Dr. Khan</td>\n",
       "      <td>Yes</td>\n",
       "      <td>Bengaluru</td>\n",
       "      <td>Severe</td>\n",
       "      <td>New India Assurance</td>\n",
       "      <td>Surgery</td>\n",
       "      <td>General</td>\n",
       "      <td>Insurance</td>\n",
       "      <td>6</td>\n",
       "      <td>2</td>\n",
       "      <td>Pediatric (0-17)</td>\n",
       "      <td>7</td>\n",
       "    </tr>\n",
       "    <tr>\n",
       "      <th>999</th>\n",
       "      <td>P1000</td>\n",
       "      <td>77</td>\n",
       "      <td>Male</td>\n",
       "      <td>Neurology</td>\n",
       "      <td>Epilepsy</td>\n",
       "      <td>2025-03-04</td>\n",
       "      <td>2025-03-13</td>\n",
       "      <td>31950</td>\n",
       "      <td>Dr. Sharma</td>\n",
       "      <td>No</td>\n",
       "      <td>Chennai</td>\n",
       "      <td>Moderate</td>\n",
       "      <td>New India Assurance</td>\n",
       "      <td>Observation</td>\n",
       "      <td>Semi-Private</td>\n",
       "      <td>Cash</td>\n",
       "      <td>6</td>\n",
       "      <td>9</td>\n",
       "      <td>Senior (65+)</td>\n",
       "      <td>4</td>\n",
       "    </tr>\n",
       "  </tbody>\n",
       "</table>\n",
       "<p>1000 rows × 20 columns</p>\n",
       "</div>"
      ],
      "text/plain": [
       "    patientid  age  gender       department          diagnosis admissiondate  \\\n",
       "0       P0001   38    Male      Orthopedics           Fracture    2024-01-19   \n",
       "1       P0002   57    Male       Pediatrics             Asthma    2024-07-01   \n",
       "2       P0003   32  Female        Neurology             Stroke    2024-02-19   \n",
       "3       P0004   22    Male      Orthopedics  Joint Replacement    2024-03-05   \n",
       "4       P0005   46  Female       Pediatrics             Asthma    2024-05-03   \n",
       "..        ...  ...     ...              ...                ...           ...   \n",
       "995     P0996   88  Female       Cardiology         Arrhythmia    2025-07-28   \n",
       "996     P0997   66    Male      Orthopedics  Joint Replacement    2024-01-16   \n",
       "997     P0998   12  Female  General Surgery         Gallstones    2024-07-27   \n",
       "998     P0999   12    Male        Neurology           Migraine    2024-06-10   \n",
       "999     P1000   77    Male        Neurology           Epilepsy    2025-03-04   \n",
       "\n",
       "    dischargedate  treatmentcost    doctorname readmitted       city  \\\n",
       "0      2024-01-30          89503     Dr. Mehta        Yes    Kolkata   \n",
       "1      2024-07-06          23659  Dr. Banerjee        Yes    Chennai   \n",
       "2      2024-03-04         316652      Dr. Iyer        Yes      Delhi   \n",
       "3      2024-03-10          74980     Dr. Singh        Yes    Chennai   \n",
       "4      2024-05-08          92331      Dr. Iyer        Yes     Mumbai   \n",
       "..            ...            ...           ...        ...        ...   \n",
       "995    2025-08-05          77977    Dr. Sharma         No  Hyderabad   \n",
       "996    2024-01-25         141590  Dr. Banerjee        Yes    Chennai   \n",
       "997    2024-08-10         143001  Dr. Banerjee         No     Mumbai   \n",
       "998    2024-06-12         227324      Dr. Khan        Yes  Bengaluru   \n",
       "999    2025-03-13          31950    Dr. Sharma         No    Chennai   \n",
       "\n",
       "     severity    insuranceprovider treatmenttype       bedtype paymentmethod  \\\n",
       "0    Moderate           LIC Health       Surgery       General     Insurance   \n",
       "1      Severe          Star Health   Observation       Private        Online   \n",
       "2        Mild          Star Health   Observation       General          Cash   \n",
       "3        Mild        ICICI Lombard       Therapy  Semi-Private   Credit Card   \n",
       "4    Moderate        ICICI Lombard       Surgery           ICU   Credit Card   \n",
       "..        ...                  ...           ...           ...           ...   \n",
       "995  Moderate           LIC Health    Medication       General          Cash   \n",
       "996    Severe           LIC Health   Observation       General   Credit Card   \n",
       "997    Severe            HDFC Ergo       Therapy       Private   Credit Card   \n",
       "998    Severe  New India Assurance       Surgery       General     Insurance   \n",
       "999  Moderate  New India Assurance   Observation  Semi-Private          Cash   \n",
       "\n",
       "     satisfactionscore  length_of_stay         age_group  Month  \n",
       "0                    3              11     Adult (18-64)      2  \n",
       "1                    1               5     Adult (18-64)      8  \n",
       "2                    6              14     Adult (18-64)      4  \n",
       "3                    9               5     Adult (18-64)      4  \n",
       "4                    8               5     Adult (18-64)      6  \n",
       "..                 ...             ...               ...    ...  \n",
       "995                  7               8      Senior (65+)      9  \n",
       "996                  7               9      Senior (65+)      2  \n",
       "997                  7              14  Pediatric (0-17)      9  \n",
       "998                  6               2  Pediatric (0-17)      7  \n",
       "999                  6               9      Senior (65+)      4  \n",
       "\n",
       "[1000 rows x 20 columns]"
      ]
     },
     "execution_count": 37,
     "metadata": {},
     "output_type": "execute_result"
    }
   ],
   "source": [
    "data['Month'] = data['dischargedate'].apply(\n",
    "\n",
    "    lambda dt: ((((datetime.strptime(dt, '%Y-%m-%d')).month)% 12)) + 1\n",
    ")\n",
    "\n",
    "data"
   ]
  },
  {
   "cell_type": "code",
   "execution_count": 7,
   "id": "1248dbaa-89ba-490b-a10c-46dc56f00c76",
   "metadata": {},
   "outputs": [],
   "source": [
    "data['readmitted'] = le.fit_transform(data['readmitted'])\n",
    "map1 = data.groupby(['Month'])['readmitted'].count()"
   ]
  },
  {
   "cell_type": "code",
   "execution_count": 8,
   "id": "557221ca-61a0-4fe1-be39-2b0ce1c418d3",
   "metadata": {},
   "outputs": [
    {
     "data": {
      "application/vnd.plotly.v1+json": {
       "config": {
        "plotlyServerURL": "https://plot.ly"
       },
       "data": [
        {
         "hovertemplate": "Month=%{marker.color}<br>readmitted=%{text}<extra></extra>",
         "legendgroup": "",
         "marker": {
          "color": {
           "bdata": "AQIDBAUGBwgJCgsM",
           "dtype": "i1"
          },
          "coloraxis": "coloraxis",
          "pattern": {
           "shape": ""
          }
         },
         "name": "",
         "orientation": "v",
         "showlegend": false,
         "text": {
          "bdata": "AAAAAACASEAAAAAAAIBXQAAAAAAAgF5AAAAAAADAVkAAAAAAAEBbQAAAAAAAAFpAAAAAAAAAWkAAAAAAAABcQAAAAAAAwFBAAAAAAACASkAAAAAAAABLQAAAAAAAgERA",
          "dtype": "f8"
         },
         "textposition": "outside",
         "type": "bar",
         "x": {
          "bdata": "AQIDBAUGBwgJCgsM",
          "dtype": "i1"
         },
         "xaxis": "x",
         "y": {
          "bdata": "MV56W21oaHBDNTYp",
          "dtype": "i1"
         },
         "yaxis": "y"
        }
       ],
       "layout": {
        "barmode": "relative",
        "coloraxis": {
         "colorbar": {
          "title": {
           "text": "Month"
          }
         },
         "colorscale": [
          [
           0,
           "#440154"
          ],
          [
           0.1111111111111111,
           "#482878"
          ],
          [
           0.2222222222222222,
           "#3e4989"
          ],
          [
           0.3333333333333333,
           "#31688e"
          ],
          [
           0.4444444444444444,
           "#26828e"
          ],
          [
           0.5555555555555556,
           "#1f9e89"
          ],
          [
           0.6666666666666666,
           "#35b779"
          ],
          [
           0.7777777777777778,
           "#6ece58"
          ],
          [
           0.8888888888888888,
           "#b5de2b"
          ],
          [
           1,
           "#fde725"
          ]
         ]
        },
        "font": {
         "color": "white",
         "family": "Arial",
         "size": 16
        },
        "height": 600,
        "legend": {
         "tracegroupgap": 0
        },
        "paper_bgcolor": "#1e1e1e",
        "plot_bgcolor": "#1e1e1e",
        "template": {
         "data": {
          "bar": [
           {
            "error_x": {
             "color": "#2a3f5f"
            },
            "error_y": {
             "color": "#2a3f5f"
            },
            "marker": {
             "line": {
              "color": "#E5ECF6",
              "width": 0.5
             },
             "pattern": {
              "fillmode": "overlay",
              "size": 10,
              "solidity": 0.2
             }
            },
            "type": "bar"
           }
          ],
          "barpolar": [
           {
            "marker": {
             "line": {
              "color": "#E5ECF6",
              "width": 0.5
             },
             "pattern": {
              "fillmode": "overlay",
              "size": 10,
              "solidity": 0.2
             }
            },
            "type": "barpolar"
           }
          ],
          "carpet": [
           {
            "aaxis": {
             "endlinecolor": "#2a3f5f",
             "gridcolor": "white",
             "linecolor": "white",
             "minorgridcolor": "white",
             "startlinecolor": "#2a3f5f"
            },
            "baxis": {
             "endlinecolor": "#2a3f5f",
             "gridcolor": "white",
             "linecolor": "white",
             "minorgridcolor": "white",
             "startlinecolor": "#2a3f5f"
            },
            "type": "carpet"
           }
          ],
          "choropleth": [
           {
            "colorbar": {
             "outlinewidth": 0,
             "ticks": ""
            },
            "type": "choropleth"
           }
          ],
          "contour": [
           {
            "colorbar": {
             "outlinewidth": 0,
             "ticks": ""
            },
            "colorscale": [
             [
              0,
              "#0d0887"
             ],
             [
              0.1111111111111111,
              "#46039f"
             ],
             [
              0.2222222222222222,
              "#7201a8"
             ],
             [
              0.3333333333333333,
              "#9c179e"
             ],
             [
              0.4444444444444444,
              "#bd3786"
             ],
             [
              0.5555555555555556,
              "#d8576b"
             ],
             [
              0.6666666666666666,
              "#ed7953"
             ],
             [
              0.7777777777777778,
              "#fb9f3a"
             ],
             [
              0.8888888888888888,
              "#fdca26"
             ],
             [
              1,
              "#f0f921"
             ]
            ],
            "type": "contour"
           }
          ],
          "contourcarpet": [
           {
            "colorbar": {
             "outlinewidth": 0,
             "ticks": ""
            },
            "type": "contourcarpet"
           }
          ],
          "heatmap": [
           {
            "colorbar": {
             "outlinewidth": 0,
             "ticks": ""
            },
            "colorscale": [
             [
              0,
              "#0d0887"
             ],
             [
              0.1111111111111111,
              "#46039f"
             ],
             [
              0.2222222222222222,
              "#7201a8"
             ],
             [
              0.3333333333333333,
              "#9c179e"
             ],
             [
              0.4444444444444444,
              "#bd3786"
             ],
             [
              0.5555555555555556,
              "#d8576b"
             ],
             [
              0.6666666666666666,
              "#ed7953"
             ],
             [
              0.7777777777777778,
              "#fb9f3a"
             ],
             [
              0.8888888888888888,
              "#fdca26"
             ],
             [
              1,
              "#f0f921"
             ]
            ],
            "type": "heatmap"
           }
          ],
          "histogram": [
           {
            "marker": {
             "pattern": {
              "fillmode": "overlay",
              "size": 10,
              "solidity": 0.2
             }
            },
            "type": "histogram"
           }
          ],
          "histogram2d": [
           {
            "colorbar": {
             "outlinewidth": 0,
             "ticks": ""
            },
            "colorscale": [
             [
              0,
              "#0d0887"
             ],
             [
              0.1111111111111111,
              "#46039f"
             ],
             [
              0.2222222222222222,
              "#7201a8"
             ],
             [
              0.3333333333333333,
              "#9c179e"
             ],
             [
              0.4444444444444444,
              "#bd3786"
             ],
             [
              0.5555555555555556,
              "#d8576b"
             ],
             [
              0.6666666666666666,
              "#ed7953"
             ],
             [
              0.7777777777777778,
              "#fb9f3a"
             ],
             [
              0.8888888888888888,
              "#fdca26"
             ],
             [
              1,
              "#f0f921"
             ]
            ],
            "type": "histogram2d"
           }
          ],
          "histogram2dcontour": [
           {
            "colorbar": {
             "outlinewidth": 0,
             "ticks": ""
            },
            "colorscale": [
             [
              0,
              "#0d0887"
             ],
             [
              0.1111111111111111,
              "#46039f"
             ],
             [
              0.2222222222222222,
              "#7201a8"
             ],
             [
              0.3333333333333333,
              "#9c179e"
             ],
             [
              0.4444444444444444,
              "#bd3786"
             ],
             [
              0.5555555555555556,
              "#d8576b"
             ],
             [
              0.6666666666666666,
              "#ed7953"
             ],
             [
              0.7777777777777778,
              "#fb9f3a"
             ],
             [
              0.8888888888888888,
              "#fdca26"
             ],
             [
              1,
              "#f0f921"
             ]
            ],
            "type": "histogram2dcontour"
           }
          ],
          "mesh3d": [
           {
            "colorbar": {
             "outlinewidth": 0,
             "ticks": ""
            },
            "type": "mesh3d"
           }
          ],
          "parcoords": [
           {
            "line": {
             "colorbar": {
              "outlinewidth": 0,
              "ticks": ""
             }
            },
            "type": "parcoords"
           }
          ],
          "pie": [
           {
            "automargin": true,
            "type": "pie"
           }
          ],
          "scatter": [
           {
            "fillpattern": {
             "fillmode": "overlay",
             "size": 10,
             "solidity": 0.2
            },
            "type": "scatter"
           }
          ],
          "scatter3d": [
           {
            "line": {
             "colorbar": {
              "outlinewidth": 0,
              "ticks": ""
             }
            },
            "marker": {
             "colorbar": {
              "outlinewidth": 0,
              "ticks": ""
             }
            },
            "type": "scatter3d"
           }
          ],
          "scattercarpet": [
           {
            "marker": {
             "colorbar": {
              "outlinewidth": 0,
              "ticks": ""
             }
            },
            "type": "scattercarpet"
           }
          ],
          "scattergeo": [
           {
            "marker": {
             "colorbar": {
              "outlinewidth": 0,
              "ticks": ""
             }
            },
            "type": "scattergeo"
           }
          ],
          "scattergl": [
           {
            "marker": {
             "colorbar": {
              "outlinewidth": 0,
              "ticks": ""
             }
            },
            "type": "scattergl"
           }
          ],
          "scattermap": [
           {
            "marker": {
             "colorbar": {
              "outlinewidth": 0,
              "ticks": ""
             }
            },
            "type": "scattermap"
           }
          ],
          "scattermapbox": [
           {
            "marker": {
             "colorbar": {
              "outlinewidth": 0,
              "ticks": ""
             }
            },
            "type": "scattermapbox"
           }
          ],
          "scatterpolar": [
           {
            "marker": {
             "colorbar": {
              "outlinewidth": 0,
              "ticks": ""
             }
            },
            "type": "scatterpolar"
           }
          ],
          "scatterpolargl": [
           {
            "marker": {
             "colorbar": {
              "outlinewidth": 0,
              "ticks": ""
             }
            },
            "type": "scatterpolargl"
           }
          ],
          "scatterternary": [
           {
            "marker": {
             "colorbar": {
              "outlinewidth": 0,
              "ticks": ""
             }
            },
            "type": "scatterternary"
           }
          ],
          "surface": [
           {
            "colorbar": {
             "outlinewidth": 0,
             "ticks": ""
            },
            "colorscale": [
             [
              0,
              "#0d0887"
             ],
             [
              0.1111111111111111,
              "#46039f"
             ],
             [
              0.2222222222222222,
              "#7201a8"
             ],
             [
              0.3333333333333333,
              "#9c179e"
             ],
             [
              0.4444444444444444,
              "#bd3786"
             ],
             [
              0.5555555555555556,
              "#d8576b"
             ],
             [
              0.6666666666666666,
              "#ed7953"
             ],
             [
              0.7777777777777778,
              "#fb9f3a"
             ],
             [
              0.8888888888888888,
              "#fdca26"
             ],
             [
              1,
              "#f0f921"
             ]
            ],
            "type": "surface"
           }
          ],
          "table": [
           {
            "cells": {
             "fill": {
              "color": "#EBF0F8"
             },
             "line": {
              "color": "white"
             }
            },
            "header": {
             "fill": {
              "color": "#C8D4E3"
             },
             "line": {
              "color": "white"
             }
            },
            "type": "table"
           }
          ]
         },
         "layout": {
          "annotationdefaults": {
           "arrowcolor": "#2a3f5f",
           "arrowhead": 0,
           "arrowwidth": 1
          },
          "autotypenumbers": "strict",
          "coloraxis": {
           "colorbar": {
            "outlinewidth": 0,
            "ticks": ""
           }
          },
          "colorscale": {
           "diverging": [
            [
             0,
             "#8e0152"
            ],
            [
             0.1,
             "#c51b7d"
            ],
            [
             0.2,
             "#de77ae"
            ],
            [
             0.3,
             "#f1b6da"
            ],
            [
             0.4,
             "#fde0ef"
            ],
            [
             0.5,
             "#f7f7f7"
            ],
            [
             0.6,
             "#e6f5d0"
            ],
            [
             0.7,
             "#b8e186"
            ],
            [
             0.8,
             "#7fbc41"
            ],
            [
             0.9,
             "#4d9221"
            ],
            [
             1,
             "#276419"
            ]
           ],
           "sequential": [
            [
             0,
             "#0d0887"
            ],
            [
             0.1111111111111111,
             "#46039f"
            ],
            [
             0.2222222222222222,
             "#7201a8"
            ],
            [
             0.3333333333333333,
             "#9c179e"
            ],
            [
             0.4444444444444444,
             "#bd3786"
            ],
            [
             0.5555555555555556,
             "#d8576b"
            ],
            [
             0.6666666666666666,
             "#ed7953"
            ],
            [
             0.7777777777777778,
             "#fb9f3a"
            ],
            [
             0.8888888888888888,
             "#fdca26"
            ],
            [
             1,
             "#f0f921"
            ]
           ],
           "sequentialminus": [
            [
             0,
             "#0d0887"
            ],
            [
             0.1111111111111111,
             "#46039f"
            ],
            [
             0.2222222222222222,
             "#7201a8"
            ],
            [
             0.3333333333333333,
             "#9c179e"
            ],
            [
             0.4444444444444444,
             "#bd3786"
            ],
            [
             0.5555555555555556,
             "#d8576b"
            ],
            [
             0.6666666666666666,
             "#ed7953"
            ],
            [
             0.7777777777777778,
             "#fb9f3a"
            ],
            [
             0.8888888888888888,
             "#fdca26"
            ],
            [
             1,
             "#f0f921"
            ]
           ]
          },
          "colorway": [
           "#636efa",
           "#EF553B",
           "#00cc96",
           "#ab63fa",
           "#FFA15A",
           "#19d3f3",
           "#FF6692",
           "#B6E880",
           "#FF97FF",
           "#FECB52"
          ],
          "font": {
           "color": "#2a3f5f"
          },
          "geo": {
           "bgcolor": "white",
           "lakecolor": "white",
           "landcolor": "#E5ECF6",
           "showlakes": true,
           "showland": true,
           "subunitcolor": "white"
          },
          "hoverlabel": {
           "align": "left"
          },
          "hovermode": "closest",
          "mapbox": {
           "style": "light"
          },
          "paper_bgcolor": "white",
          "plot_bgcolor": "#E5ECF6",
          "polar": {
           "angularaxis": {
            "gridcolor": "white",
            "linecolor": "white",
            "ticks": ""
           },
           "bgcolor": "#E5ECF6",
           "radialaxis": {
            "gridcolor": "white",
            "linecolor": "white",
            "ticks": ""
           }
          },
          "scene": {
           "xaxis": {
            "backgroundcolor": "#E5ECF6",
            "gridcolor": "white",
            "gridwidth": 2,
            "linecolor": "white",
            "showbackground": true,
            "ticks": "",
            "zerolinecolor": "white"
           },
           "yaxis": {
            "backgroundcolor": "#E5ECF6",
            "gridcolor": "white",
            "gridwidth": 2,
            "linecolor": "white",
            "showbackground": true,
            "ticks": "",
            "zerolinecolor": "white"
           },
           "zaxis": {
            "backgroundcolor": "#E5ECF6",
            "gridcolor": "white",
            "gridwidth": 2,
            "linecolor": "white",
            "showbackground": true,
            "ticks": "",
            "zerolinecolor": "white"
           }
          },
          "shapedefaults": {
           "line": {
            "color": "#2a3f5f"
           }
          },
          "ternary": {
           "aaxis": {
            "gridcolor": "white",
            "linecolor": "white",
            "ticks": ""
           },
           "baxis": {
            "gridcolor": "white",
            "linecolor": "white",
            "ticks": ""
           },
           "bgcolor": "#E5ECF6",
           "caxis": {
            "gridcolor": "white",
            "linecolor": "white",
            "ticks": ""
           }
          },
          "title": {
           "x": 0.05
          },
          "xaxis": {
           "automargin": true,
           "gridcolor": "white",
           "linecolor": "white",
           "ticks": "",
           "title": {
            "standoff": 15
           },
           "zerolinecolor": "white",
           "zerolinewidth": 2
          },
          "yaxis": {
           "automargin": true,
           "gridcolor": "white",
           "linecolor": "white",
           "ticks": "",
           "title": {
            "standoff": 15
           },
           "zerolinecolor": "white",
           "zerolinewidth": 2
          }
         }
        },
        "title": {
         "font": {
          "color": "white",
          "size": 26
         },
         "text": "Readmission Count per Month"
        },
        "width": 1000,
        "xaxis": {
         "anchor": "y",
         "color": "white",
         "domain": [
          0,
          1
         ],
         "tickmode": "array",
         "ticktext": [
          "Jan",
          "Feb",
          "Mar",
          "Apr",
          "May",
          "Jun",
          "Jul",
          "Aug",
          "Sep",
          "Oct",
          "Nov",
          "Dec"
         ],
         "tickvals": [
          1,
          2,
          3,
          4,
          5,
          6,
          7,
          8,
          9,
          10,
          11,
          12
         ],
         "title": {
          "text": "Month"
         }
        },
        "yaxis": {
         "anchor": "x",
         "color": "white",
         "domain": [
          0,
          1
         ],
         "title": {
          "text": "Readmission Count"
         }
        }
       }
      },
      "image/png": "[encoded data removed]"
     },
     "metadata": {},
     "output_type": "display_data"
    }
   ],
   "source": [
    "dark_colors = px.colors.sequential.Viridis\n",
    "\n",
    "# Create bar chart\n",
    "fig = px.bar(\n",
    "    map1.reset_index(),\n",
    "    x='Month',\n",
    "    y='readmitted',\n",
    "    text='readmitted',\n",
    "    title=\"Readmission Count per Month\",\n",
    "    color='Month',\n",
    "    color_continuous_scale=dark_colors\n",
    ")\n",
    "\n",
    "fig.update_traces(textposition='outside')\n",
    "\n",
    "# Dark layout styling\n",
    "fig.update_layout(\n",
    "    width=1000,\n",
    "    height=600,\n",
    "    title_font=dict(size=26, color='white'),\n",
    "    xaxis=dict(\n",
    "        tickmode='array',\n",
    "        tickvals=list(range(1, 13)),\n",
    "        ticktext=['Jan', 'Feb', 'Mar', 'Apr', 'May', 'Jun',\n",
    "                  'Jul', 'Aug', 'Sep', 'Oct', 'Nov', 'Dec'],\n",
    "        color='white'\n",
    "    ),\n",
    "    \n",
    "    yaxis=dict(\n",
    "        title=\"Readmission Count\",\n",
    "        color='white'\n",
    "    ),\n",
    "    plot_bgcolor=\"#1e1e1e\",\n",
    "    paper_bgcolor=\"#1e1e1e\",\n",
    "    font=dict(family=\"Arial\", size=16, color='white'),\n",
    ")\n",
    "\n",
    "fig.show()"
   ]
  },
  {
   "cell_type": "code",
   "execution_count": 152,
   "id": "dbf0d6a5-d619-42a6-9ce9-ab3c67535e1b",
   "metadata": {},
   "outputs": [
    {
     "name": "stdin",
     "output_type": "stream",
     "text": [
      "Enter the month 10\n"
     ]
    },
    {
     "data": {
      "application/vnd.plotly.v1+json": {
       "config": {
        "plotlyServerURL": "https://plot.ly"
       },
       "data": [
        {
         "hovertemplate": "Severity=Moderate<br>Diagnosis=%{x}<br>ReadmissionCount=%{text}<extra></extra>",
         "insidetextanchor": "middle",
         "legendgroup": "Moderate",
         "marker": {
          "color": "#636efa",
          "pattern": {
           "shape": ""
          }
         },
         "name": "Moderate",
         "orientation": "v",
         "showlegend": true,
         "text": {
          "bdata": "AAAAAAAA8D8AAAAAAADwPwAAAAAAAABAAAAAAAAA8D8AAAAAAADwPwAAAAAAAPA/AAAAAAAACEAAAAAAAADwPwAAAAAAAPA/AAAAAAAAEEAAAAAAAAAAQA==",
          "dtype": "f8"
         },
         "textposition": "inside",
         "type": "bar",
         "x": [
          "Appendicitis",
          "Arrhythmia",
          "Breast Cancer",
          "Epilepsy",
          "Flu",
          "Fracture",
          "Heart Failure",
          "Joint Replacement",
          "Lung Cancer",
          "Pneumonia",
          "Stroke"
         ],
         "xaxis": "x",
         "y": {
          "bdata": "AQECAQEBAwEBBAI=",
          "dtype": "i1"
         },
         "yaxis": "y"
        },
        {
         "hovertemplate": "Severity=Severe<br>Diagnosis=%{x}<br>ReadmissionCount=%{text}<extra></extra>",
         "insidetextanchor": "middle",
         "legendgroup": "Severe",
         "marker": {
          "color": "#EF553B",
          "pattern": {
           "shape": ""
          }
         },
         "name": "Severe",
         "orientation": "v",
         "showlegend": true,
         "text": {
          "bdata": "AAAAAAAA8D8AAAAAAADwPwAAAAAAAPA/AAAAAAAA8D8AAAAAAADwPwAAAAAAAPA/AAAAAAAACEAAAAAAAAAAQAAAAAAAAPA/AAAAAAAAAEA=",
          "dtype": "f8"
         },
         "textposition": "inside",
         "type": "bar",
         "x": [
          "Appendicitis",
          "Arrhythmia",
          "Arthritis",
          "Breast Cancer",
          "Flu",
          "Heart Attack",
          "Hernia",
          "Lung Cancer",
          "Migraine",
          "Stroke"
         ],
         "xaxis": "x",
         "y": {
          "bdata": "AQEBAQEBAwIBAg==",
          "dtype": "i1"
         },
         "yaxis": "y"
        },
        {
         "hovertemplate": "Severity=Mild<br>Diagnosis=%{x}<br>ReadmissionCount=%{text}<extra></extra>",
         "insidetextanchor": "middle",
         "legendgroup": "Mild",
         "marker": {
          "color": "#00cc96",
          "pattern": {
           "shape": ""
          }
         },
         "name": "Mild",
         "orientation": "v",
         "showlegend": true,
         "text": {
          "bdata": "AAAAAAAAAEAAAAAAAAAAQAAAAAAAAPA/AAAAAAAA8D8AAAAAAADwPwAAAAAAAABAAAAAAAAA8D8AAAAAAADwPwAAAAAAAAhAAAAAAAAAAEAAAAAAAAAAQAAAAAAAAPA/AAAAAAAAAEA=",
          "dtype": "f8"
         },
         "textposition": "inside",
         "type": "bar",
         "x": [
          "Arrhythmia",
          "Asthma",
          "Breast Cancer",
          "Epilepsy",
          "Flu",
          "Fracture",
          "Heart Attack",
          "Hernia",
          "Joint Replacement",
          "Leukemia",
          "Lung Cancer",
          "Migraine",
          "Pneumonia"
         ],
         "xaxis": "x",
         "y": {
          "bdata": "AgIBAQECAQEDAgIBAg==",
          "dtype": "i1"
         },
         "yaxis": "y"
        }
       ],
       "layout": {
        "barmode": "stack",
        "font": {
         "color": "white"
        },
        "height": 700,
        "legend": {
         "title": {
          "text": "Severity"
         },
         "tracegroupgap": 0
        },
        "paper_bgcolor": "black",
        "plot_bgcolor": "black",
        "template": {
         "data": {
          "bar": [
           {
            "error_x": {
             "color": "#2a3f5f"
            },
            "error_y": {
             "color": "#2a3f5f"
            },
            "marker": {
             "line": {
              "color": "#E5ECF6",
              "width": 0.5
             },
             "pattern": {
              "fillmode": "overlay",
              "size": 10,
              "solidity": 0.2
             }
            },
            "type": "bar"
           }
          ],
          "barpolar": [
           {
            "marker": {
             "line": {
              "color": "#E5ECF6",
              "width": 0.5
             },
             "pattern": {
              "fillmode": "overlay",
              "size": 10,
              "solidity": 0.2
             }
            },
            "type": "barpolar"
           }
          ],
          "carpet": [
           {
            "aaxis": {
             "endlinecolor": "#2a3f5f",
             "gridcolor": "white",
             "linecolor": "white",
             "minorgridcolor": "white",
             "startlinecolor": "#2a3f5f"
            },
            "baxis": {
             "endlinecolor": "#2a3f5f",
             "gridcolor": "white",
             "linecolor": "white",
             "minorgridcolor": "white",
             "startlinecolor": "#2a3f5f"
            },
            "type": "carpet"
           }
          ],
          "choropleth": [
           {
            "colorbar": {
             "outlinewidth": 0,
             "ticks": ""
            },
            "type": "choropleth"
           }
          ],
          "contour": [
           {
            "colorbar": {
             "outlinewidth": 0,
             "ticks": ""
            },
            "colorscale": [
             [
              0,
              "#0d0887"
             ],
             [
              0.1111111111111111,
              "#46039f"
             ],
             [
              0.2222222222222222,
              "#7201a8"
             ],
             [
              0.3333333333333333,
              "#9c179e"
             ],
             [
              0.4444444444444444,
              "#bd3786"
             ],
             [
              0.5555555555555556,
              "#d8576b"
             ],
             [
              0.6666666666666666,
              "#ed7953"
             ],
             [
              0.7777777777777778,
              "#fb9f3a"
             ],
             [
              0.8888888888888888,
              "#fdca26"
             ],
             [
              1,
              "#f0f921"
             ]
            ],
            "type": "contour"
           }
          ],
          "contourcarpet": [
           {
            "colorbar": {
             "outlinewidth": 0,
             "ticks": ""
            },
            "type": "contourcarpet"
           }
          ],
          "heatmap": [
           {
            "colorbar": {
             "outlinewidth": 0,
             "ticks": ""
            },
            "colorscale": [
             [
              0,
              "#0d0887"
             ],
             [
              0.1111111111111111,
              "#46039f"
             ],
             [
              0.2222222222222222,
              "#7201a8"
             ],
             [
              0.3333333333333333,
              "#9c179e"
             ],
             [
              0.4444444444444444,
              "#bd3786"
             ],
             [
              0.5555555555555556,
              "#d8576b"
             ],
             [
              0.6666666666666666,
              "#ed7953"
             ],
             [
              0.7777777777777778,
              "#fb9f3a"
             ],
             [
              0.8888888888888888,
              "#fdca26"
             ],
             [
              1,
              "#f0f921"
             ]
            ],
            "type": "heatmap"
           }
          ],
          "histogram": [
           {
            "marker": {
             "pattern": {
              "fillmode": "overlay",
              "size": 10,
              "solidity": 0.2
             }
            },
            "type": "histogram"
           }
          ],
          "histogram2d": [
           {
            "colorbar": {
             "outlinewidth": 0,
             "ticks": ""
            },
            "colorscale": [
             [
              0,
              "#0d0887"
             ],
             [
              0.1111111111111111,
              "#46039f"
             ],
             [
              0.2222222222222222,
              "#7201a8"
             ],
             [
              0.3333333333333333,
              "#9c179e"
             ],
             [
              0.4444444444444444,
              "#bd3786"
             ],
             [
              0.5555555555555556,
              "#d8576b"
             ],
             [
              0.6666666666666666,
              "#ed7953"
             ],
             [
              0.7777777777777778,
              "#fb9f3a"
             ],
             [
              0.8888888888888888,
              "#fdca26"
             ],
             [
              1,
              "#f0f921"
             ]
            ],
            "type": "histogram2d"
           }
          ],
          "histogram2dcontour": [
           {
            "colorbar": {
             "outlinewidth": 0,
             "ticks": ""
            },
            "colorscale": [
             [
              0,
              "#0d0887"
             ],
             [
              0.1111111111111111,
              "#46039f"
             ],
             [
              0.2222222222222222,
              "#7201a8"
             ],
             [
              0.3333333333333333,
              "#9c179e"
             ],
             [
              0.4444444444444444,
              "#bd3786"
             ],
             [
              0.5555555555555556,
              "#d8576b"
             ],
             [
              0.6666666666666666,
              "#ed7953"
             ],
             [
              0.7777777777777778,
              "#fb9f3a"
             ],
             [
              0.8888888888888888,
              "#fdca26"
             ],
             [
              1,
              "#f0f921"
             ]
            ],
            "type": "histogram2dcontour"
           }
          ],
          "mesh3d": [
           {
            "colorbar": {
             "outlinewidth": 0,
             "ticks": ""
            },
            "type": "mesh3d"
           }
          ],
          "parcoords": [
           {
            "line": {
             "colorbar": {
              "outlinewidth": 0,
              "ticks": ""
             }
            },
            "type": "parcoords"
           }
          ],
          "pie": [
           {
            "automargin": true,
            "type": "pie"
           }
          ],
          "scatter": [
           {
            "fillpattern": {
             "fillmode": "overlay",
             "size": 10,
             "solidity": 0.2
            },
            "type": "scatter"
           }
          ],
          "scatter3d": [
           {
            "line": {
             "colorbar": {
              "outlinewidth": 0,
              "ticks": ""
             }
            },
            "marker": {
             "colorbar": {
              "outlinewidth": 0,
              "ticks": ""
             }
            },
            "type": "scatter3d"
           }
          ],
          "scattercarpet": [
           {
            "marker": {
             "colorbar": {
              "outlinewidth": 0,
              "ticks": ""
             }
            },
            "type": "scattercarpet"
           }
          ],
          "scattergeo": [
           {
            "marker": {
             "colorbar": {
              "outlinewidth": 0,
              "ticks": ""
             }
            },
            "type": "scattergeo"
           }
          ],
          "scattergl": [
           {
            "marker": {
             "colorbar": {
              "outlinewidth": 0,
              "ticks": ""
             }
            },
            "type": "scattergl"
           }
          ],
          "scattermap": [
           {
            "marker": {
             "colorbar": {
              "outlinewidth": 0,
              "ticks": ""
             }
            },
            "type": "scattermap"
           }
          ],
          "scattermapbox": [
           {
            "marker": {
             "colorbar": {
              "outlinewidth": 0,
              "ticks": ""
             }
            },
            "type": "scattermapbox"
           }
          ],
          "scatterpolar": [
           {
            "marker": {
             "colorbar": {
              "outlinewidth": 0,
              "ticks": ""
             }
            },
            "type": "scatterpolar"
           }
          ],
          "scatterpolargl": [
           {
            "marker": {
             "colorbar": {
              "outlinewidth": 0,
              "ticks": ""
             }
            },
            "type": "scatterpolargl"
           }
          ],
          "scatterternary": [
           {
            "marker": {
             "colorbar": {
              "outlinewidth": 0,
              "ticks": ""
             }
            },
            "type": "scatterternary"
           }
          ],
          "surface": [
           {
            "colorbar": {
             "outlinewidth": 0,
             "ticks": ""
            },
            "colorscale": [
             [
              0,
              "#0d0887"
             ],
             [
              0.1111111111111111,
              "#46039f"
             ],
             [
              0.2222222222222222,
              "#7201a8"
             ],
             [
              0.3333333333333333,
              "#9c179e"
             ],
             [
              0.4444444444444444,
              "#bd3786"
             ],
             [
              0.5555555555555556,
              "#d8576b"
             ],
             [
              0.6666666666666666,
              "#ed7953"
             ],
             [
              0.7777777777777778,
              "#fb9f3a"
             ],
             [
              0.8888888888888888,
              "#fdca26"
             ],
             [
              1,
              "#f0f921"
             ]
            ],
            "type": "surface"
           }
          ],
          "table": [
           {
            "cells": {
             "fill": {
              "color": "#EBF0F8"
             },
             "line": {
              "color": "white"
             }
            },
            "header": {
             "fill": {
              "color": "#C8D4E3"
             },
             "line": {
              "color": "white"
             }
            },
            "type": "table"
           }
          ]
         },
         "layout": {
          "annotationdefaults": {
           "arrowcolor": "#2a3f5f",
           "arrowhead": 0,
           "arrowwidth": 1
          },
          "autotypenumbers": "strict",
          "coloraxis": {
           "colorbar": {
            "outlinewidth": 0,
            "ticks": ""
           }
          },
          "colorscale": {
           "diverging": [
            [
             0,
             "#8e0152"
            ],
            [
             0.1,
             "#c51b7d"
            ],
            [
             0.2,
             "#de77ae"
            ],
            [
             0.3,
             "#f1b6da"
            ],
            [
             0.4,
             "#fde0ef"
            ],
            [
             0.5,
             "#f7f7f7"
            ],
            [
             0.6,
             "#e6f5d0"
            ],
            [
             0.7,
             "#b8e186"
            ],
            [
             0.8,
             "#7fbc41"
            ],
            [
             0.9,
             "#4d9221"
            ],
            [
             1,
             "#276419"
            ]
           ],
           "sequential": [
            [
             0,
             "#0d0887"
            ],
            [
             0.1111111111111111,
             "#46039f"
            ],
            [
             0.2222222222222222,
             "#7201a8"
            ],
            [
             0.3333333333333333,
             "#9c179e"
            ],
            [
             0.4444444444444444,
             "#bd3786"
            ],
            [
             0.5555555555555556,
             "#d8576b"
            ],
            [
             0.6666666666666666,
             "#ed7953"
            ],
            [
             0.7777777777777778,
             "#fb9f3a"
            ],
            [
             0.8888888888888888,
             "#fdca26"
            ],
            [
             1,
             "#f0f921"
            ]
           ],
           "sequentialminus": [
            [
             0,
             "#0d0887"
            ],
            [
             0.1111111111111111,
             "#46039f"
            ],
            [
             0.2222222222222222,
             "#7201a8"
            ],
            [
             0.3333333333333333,
             "#9c179e"
            ],
            [
             0.4444444444444444,
             "#bd3786"
            ],
            [
             0.5555555555555556,
             "#d8576b"
            ],
            [
             0.6666666666666666,
             "#ed7953"
            ],
            [
             0.7777777777777778,
             "#fb9f3a"
            ],
            [
             0.8888888888888888,
             "#fdca26"
            ],
            [
             1,
             "#f0f921"
            ]
           ]
          },
          "colorway": [
           "#636efa",
           "#EF553B",
           "#00cc96",
           "#ab63fa",
           "#FFA15A",
           "#19d3f3",
           "#FF6692",
           "#B6E880",
           "#FF97FF",
           "#FECB52"
          ],
          "font": {
           "color": "#2a3f5f"
          },
          "geo": {
           "bgcolor": "white",
           "lakecolor": "white",
           "landcolor": "#E5ECF6",
           "showlakes": true,
           "showland": true,
           "subunitcolor": "white"
          },
          "hoverlabel": {
           "align": "left"
          },
          "hovermode": "closest",
          "mapbox": {
           "style": "light"
          },
          "paper_bgcolor": "white",
          "plot_bgcolor": "#E5ECF6",
          "polar": {
           "angularaxis": {
            "gridcolor": "white",
            "linecolor": "white",
            "ticks": ""
           },
           "bgcolor": "#E5ECF6",
           "radialaxis": {
            "gridcolor": "white",
            "linecolor": "white",
            "ticks": ""
           }
          },
          "scene": {
           "xaxis": {
            "backgroundcolor": "#E5ECF6",
            "gridcolor": "white",
            "gridwidth": 2,
            "linecolor": "white",
            "showbackground": true,
            "ticks": "",
            "zerolinecolor": "white"
           },
           "yaxis": {
            "backgroundcolor": "#E5ECF6",
            "gridcolor": "white",
            "gridwidth": 2,
            "linecolor": "white",
            "showbackground": true,
            "ticks": "",
            "zerolinecolor": "white"
           },
           "zaxis": {
            "backgroundcolor": "#E5ECF6",
            "gridcolor": "white",
            "gridwidth": 2,
            "linecolor": "white",
            "showbackground": true,
            "ticks": "",
            "zerolinecolor": "white"
           }
          },
          "shapedefaults": {
           "line": {
            "color": "#2a3f5f"
           }
          },
          "ternary": {
           "aaxis": {
            "gridcolor": "white",
            "linecolor": "white",
            "ticks": ""
           },
           "baxis": {
            "gridcolor": "white",
            "linecolor": "white",
            "ticks": ""
           },
           "bgcolor": "#E5ECF6",
           "caxis": {
            "gridcolor": "white",
            "linecolor": "white",
            "ticks": ""
           }
          },
          "title": {
           "x": 0.05
          },
          "xaxis": {
           "automargin": true,
           "gridcolor": "white",
           "linecolor": "white",
           "ticks": "",
           "title": {
            "standoff": 15
           },
           "zerolinecolor": "white",
           "zerolinewidth": 2
          },
          "yaxis": {
           "automargin": true,
           "gridcolor": "white",
           "linecolor": "white",
           "ticks": "",
           "title": {
            "standoff": 15
           },
           "zerolinecolor": "white",
           "zerolinewidth": 2
          }
         }
        },
        "title": {
         "text": "Readmission Count per Diagnosis and Severity"
        },
        "uniformtext": {
         "minsize": 10,
         "mode": "hide"
        },
        "width": 800,
        "xaxis": {
         "anchor": "y",
         "domain": [
          0,
          1
         ],
         "tickangle": -45,
         "title": {
          "text": "Diagnosis"
         }
        },
        "yaxis": {
         "anchor": "x",
         "domain": [
          0,
          1
         ],
         "title": {
          "text": "ReadmissionCount"
         }
        }
       }
      },
      "image/png": "[encoded data removed]"
     },
     "metadata": {},
     "output_type": "display_data"
    }
   ],
   "source": [
    "#Plot no: 2: For a single month, show for all diagnosis and severity the readmission counts\n",
    "\n",
    "month = int(input('Enter the month'))\n",
    "refined = data[data['Month'] ==  month]\n",
    "\n",
    "mapForDiagandSever1Month = refined.groupby(['diagnosis', 'severity'])['readmitted'].count()\n",
    "\n",
    "mapForDiagandSever1Month = pd.Series(mapForDiagandSever1Month).reset_index()\n",
    "mapForDiagandSever1Month.columns = ['Diagnosis', 'Severity', 'ReadmissionCount']\n",
    "\n",
    "fig = px.bar(\n",
    "    mapForDiagandSever1Month, \n",
    "    x='Diagnosis', \n",
    "    y='ReadmissionCount', \n",
    "    color='Severity', \n",
    "    title='Readmission Count per Diagnosis and Severity',\n",
    "    text='ReadmissionCount'\n",
    ")\n",
    "\n",
    "fig.update_traces(\n",
    "    textposition='inside',       # puts the numbers inside bars\n",
    "    insidetextanchor='middle'    # centers the numbers\n",
    ")\n",
    "\n",
    "fig.update_layout(\n",
    "    barmode='stack',\n",
    "    xaxis_tickangle=-45,         # slanted x-axis labels\n",
    "    uniformtext_minsize=10,\n",
    "    uniformtext_mode='hide',\n",
    "    width = 800,\n",
    "    height = 700,\n",
    "    plot_bgcolor='black',      # background dark\n",
    "    paper_bgcolor='black',\n",
    "    font_color='white' \n",
    ")\n",
    "\n",
    "fig.show()"
   ]
  },
  {
   "cell_type": "code",
   "execution_count": 31,
   "id": "eb04d410-e45f-4814-bab3-61910d93afc8",
   "metadata": {},
   "outputs": [
    {
     "name": "stdin",
     "output_type": "stream",
     "text": [
      "Enter Doctor name:  Dr. Khan\n"
     ]
    },
    {
     "data": {
      "application/vnd.plotly.v1+json": {
       "config": {
        "plotlyServerURL": "https://plot.ly"
       },
       "data": [
        {
         "alignmentgroup": "True",
         "hovertemplate": "variable=Doctor Average LOS<br>diagnosis=%{x}<br>value=%{y}<extra></extra>",
         "legendgroup": "Doctor Average LOS",
         "marker": {
          "color": "#636efa",
          "pattern": {
           "shape": ""
          }
         },
         "name": "Doctor Average LOS",
         "offsetgroup": "Doctor Average LOS",
         "orientation": "v",
         "showlegend": true,
         "textposition": "auto",
         "type": "bar",
         "x": [
          "Appendicitis",
          "Arrhythmia",
          "Arthritis",
          "Asthma",
          "Breast Cancer",
          "Epilepsy",
          "Flu",
          "Fracture",
          "Gallstones",
          "Heart Failure",
          "Hernia",
          "Joint Replacement",
          "Leukemia",
          "Lung Cancer",
          "Pneumonia",
          "Stroke",
          "Appendicitis",
          "Arrhythmia",
          "Arthritis",
          "Asthma",
          "Breast Cancer",
          "Epilepsy",
          "Flu",
          "Fracture",
          "Gallstones",
          "Heart Attack",
          "Heart Failure",
          "Hernia",
          "Joint Replacement",
          "Leukemia",
          "Migraine",
          "Pneumonia",
          "Stroke",
          "Appendicitis",
          "Arrhythmia",
          "Arthritis",
          "Asthma",
          "Breast Cancer",
          "Epilepsy",
          "Flu",
          "Fracture",
          "Gallstones",
          "Heart Attack",
          "Heart Failure",
          "Hernia",
          "Joint Replacement",
          "Leukemia",
          "Lung Cancer",
          "Migraine",
          "Stroke"
         ],
         "xaxis": "x",
         "y": {
          "bdata": "CQcLDgoNCQYNBwgFCAgIBAYEBgULCAcEBwsJBggFBgcJBgkCBgkGCQkICAgJCQgHBgY=",
          "dtype": "i1"
         },
         "yaxis": "y"
        },
        {
         "alignmentgroup": "True",
         "hovertemplate": "variable=Global Average LOS<br>diagnosis=%{x}<br>value=%{y}<extra></extra>",
         "legendgroup": "Global Average LOS",
         "marker": {
          "color": "#EF553B",
          "pattern": {
           "shape": ""
          }
         },
         "name": "Global Average LOS",
         "offsetgroup": "Global Average LOS",
         "orientation": "v",
         "showlegend": true,
         "textposition": "auto",
         "type": "bar",
         "x": [
          "Appendicitis",
          "Arrhythmia",
          "Arthritis",
          "Asthma",
          "Breast Cancer",
          "Epilepsy",
          "Flu",
          "Fracture",
          "Gallstones",
          "Heart Failure",
          "Hernia",
          "Joint Replacement",
          "Leukemia",
          "Lung Cancer",
          "Pneumonia",
          "Stroke",
          "Appendicitis",
          "Arrhythmia",
          "Arthritis",
          "Asthma",
          "Breast Cancer",
          "Epilepsy",
          "Flu",
          "Fracture",
          "Gallstones",
          "Heart Attack",
          "Heart Failure",
          "Hernia",
          "Joint Replacement",
          "Leukemia",
          "Migraine",
          "Pneumonia",
          "Stroke",
          "Appendicitis",
          "Arrhythmia",
          "Arthritis",
          "Asthma",
          "Breast Cancer",
          "Epilepsy",
          "Flu",
          "Fracture",
          "Gallstones",
          "Heart Attack",
          "Heart Failure",
          "Hernia",
          "Joint Replacement",
          "Leukemia",
          "Lung Cancer",
          "Migraine",
          "Stroke"
         ],
         "xaxis": "x",
         "y": {
          "bdata": "BwkICQcJCAcICAgICAgICAoICAcICAkICQoIBwgIBwcIBwgJBwcICgkKCAcIBwgIBwc=",
          "dtype": "i1"
         },
         "yaxis": "y"
        }
       ],
       "layout": {
        "barmode": "group",
        "font": {
         "color": "white",
         "size": 16
        },
        "height": 800,
        "legend": {
         "font": {
          "color": "white",
          "size": 14
         },
         "title": {
          "text": "Comparison"
         },
         "tracegroupgap": 0
        },
        "paper_bgcolor": "black",
        "plot_bgcolor": "black",
        "template": {
         "data": {
          "bar": [
           {
            "error_x": {
             "color": "#f2f5fa"
            },
            "error_y": {
             "color": "#f2f5fa"
            },
            "marker": {
             "line": {
              "color": "rgb(17,17,17)",
              "width": 0.5
             },
             "pattern": {
              "fillmode": "overlay",
              "size": 10,
              "solidity": 0.2
             }
            },
            "type": "bar"
           }
          ],
          "barpolar": [
           {
            "marker": {
             "line": {
              "color": "rgb(17,17,17)",
              "width": 0.5
             },
             "pattern": {
              "fillmode": "overlay",
              "size": 10,
              "solidity": 0.2
             }
            },
            "type": "barpolar"
           }
          ],
          "carpet": [
           {
            "aaxis": {
             "endlinecolor": "#A2B1C6",
             "gridcolor": "#506784",
             "linecolor": "#506784",
             "minorgridcolor": "#506784",
             "startlinecolor": "#A2B1C6"
            },
            "baxis": {
             "endlinecolor": "#A2B1C6",
             "gridcolor": "#506784",
             "linecolor": "#506784",
             "minorgridcolor": "#506784",
             "startlinecolor": "#A2B1C6"
            },
            "type": "carpet"
           }
          ],
          "choropleth": [
           {
            "colorbar": {
             "outlinewidth": 0,
             "ticks": ""
            },
            "type": "choropleth"
           }
          ],
          "contour": [
           {
            "colorbar": {
             "outlinewidth": 0,
             "ticks": ""
            },
            "colorscale": [
             [
              0,
              "#0d0887"
             ],
             [
              0.1111111111111111,
              "#46039f"
             ],
             [
              0.2222222222222222,
              "#7201a8"
             ],
             [
              0.3333333333333333,
              "#9c179e"
             ],
             [
              0.4444444444444444,
              "#bd3786"
             ],
             [
              0.5555555555555556,
              "#d8576b"
             ],
             [
              0.6666666666666666,
              "#ed7953"
             ],
             [
              0.7777777777777778,
              "#fb9f3a"
             ],
             [
              0.8888888888888888,
              "#fdca26"
             ],
             [
              1,
              "#f0f921"
             ]
            ],
            "type": "contour"
           }
          ],
          "contourcarpet": [
           {
            "colorbar": {
             "outlinewidth": 0,
             "ticks": ""
            },
            "type": "contourcarpet"
           }
          ],
          "heatmap": [
           {
            "colorbar": {
             "outlinewidth": 0,
             "ticks": ""
            },
            "colorscale": [
             [
              0,
              "#0d0887"
             ],
             [
              0.1111111111111111,
              "#46039f"
             ],
             [
              0.2222222222222222,
              "#7201a8"
             ],
             [
              0.3333333333333333,
              "#9c179e"
             ],
             [
              0.4444444444444444,
              "#bd3786"
             ],
             [
              0.5555555555555556,
              "#d8576b"
             ],
             [
              0.6666666666666666,
              "#ed7953"
             ],
             [
              0.7777777777777778,
              "#fb9f3a"
             ],
             [
              0.8888888888888888,
              "#fdca26"
             ],
             [
              1,
              "#f0f921"
             ]
            ],
            "type": "heatmap"
           }
          ],
          "histogram": [
           {
            "marker": {
             "pattern": {
              "fillmode": "overlay",
              "size": 10,
              "solidity": 0.2
             }
            },
            "type": "histogram"
           }
          ],
          "histogram2d": [
           {
            "colorbar": {
             "outlinewidth": 0,
             "ticks": ""
            },
            "colorscale": [
             [
              0,
              "#0d0887"
             ],
             [
              0.1111111111111111,
              "#46039f"
             ],
             [
              0.2222222222222222,
              "#7201a8"
             ],
             [
              0.3333333333333333,
              "#9c179e"
             ],
             [
              0.4444444444444444,
              "#bd3786"
             ],
             [
              0.5555555555555556,
              "#d8576b"
             ],
             [
              0.6666666666666666,
              "#ed7953"
             ],
             [
              0.7777777777777778,
              "#fb9f3a"
             ],
             [
              0.8888888888888888,
              "#fdca26"
             ],
             [
              1,
              "#f0f921"
             ]
            ],
            "type": "histogram2d"
           }
          ],
          "histogram2dcontour": [
           {
            "colorbar": {
             "outlinewidth": 0,
             "ticks": ""
            },
            "colorscale": [
             [
              0,
              "#0d0887"
             ],
             [
              0.1111111111111111,
              "#46039f"
             ],
             [
              0.2222222222222222,
              "#7201a8"
             ],
             [
              0.3333333333333333,
              "#9c179e"
             ],
             [
              0.4444444444444444,
              "#bd3786"
             ],
             [
              0.5555555555555556,
              "#d8576b"
             ],
             [
              0.6666666666666666,
              "#ed7953"
             ],
             [
              0.7777777777777778,
              "#fb9f3a"
             ],
             [
              0.8888888888888888,
              "#fdca26"
             ],
             [
              1,
              "#f0f921"
             ]
            ],
            "type": "histogram2dcontour"
           }
          ],
          "mesh3d": [
           {
            "colorbar": {
             "outlinewidth": 0,
             "ticks": ""
            },
            "type": "mesh3d"
           }
          ],
          "parcoords": [
           {
            "line": {
             "colorbar": {
              "outlinewidth": 0,
              "ticks": ""
             }
            },
            "type": "parcoords"
           }
          ],
          "pie": [
           {
            "automargin": true,
            "type": "pie"
           }
          ],
          "scatter": [
           {
            "marker": {
             "line": {
              "color": "#283442"
             }
            },
            "type": "scatter"
           }
          ],
          "scatter3d": [
           {
            "line": {
             "colorbar": {
              "outlinewidth": 0,
              "ticks": ""
             }
            },
            "marker": {
             "colorbar": {
              "outlinewidth": 0,
              "ticks": ""
             }
            },
            "type": "scatter3d"
           }
          ],
          "scattercarpet": [
           {
            "marker": {
             "colorbar": {
              "outlinewidth": 0,
              "ticks": ""
             }
            },
            "type": "scattercarpet"
           }
          ],
          "scattergeo": [
           {
            "marker": {
             "colorbar": {
              "outlinewidth": 0,
              "ticks": ""
             }
            },
            "type": "scattergeo"
           }
          ],
          "scattergl": [
           {
            "marker": {
             "line": {
              "color": "#283442"
             }
            },
            "type": "scattergl"
           }
          ],
          "scattermap": [
           {
            "marker": {
             "colorbar": {
              "outlinewidth": 0,
              "ticks": ""
             }
            },
            "type": "scattermap"
           }
          ],
          "scattermapbox": [
           {
            "marker": {
             "colorbar": {
              "outlinewidth": 0,
              "ticks": ""
             }
            },
            "type": "scattermapbox"
           }
          ],
          "scatterpolar": [
           {
            "marker": {
             "colorbar": {
              "outlinewidth": 0,
              "ticks": ""
             }
            },
            "type": "scatterpolar"
           }
          ],
          "scatterpolargl": [
           {
            "marker": {
             "colorbar": {
              "outlinewidth": 0,
              "ticks": ""
             }
            },
            "type": "scatterpolargl"
           }
          ],
          "scatterternary": [
           {
            "marker": {
             "colorbar": {
              "outlinewidth": 0,
              "ticks": ""
             }
            },
            "type": "scatterternary"
           }
          ],
          "surface": [
           {
            "colorbar": {
             "outlinewidth": 0,
             "ticks": ""
            },
            "colorscale": [
             [
              0,
              "#0d0887"
             ],
             [
              0.1111111111111111,
              "#46039f"
             ],
             [
              0.2222222222222222,
              "#7201a8"
             ],
             [
              0.3333333333333333,
              "#9c179e"
             ],
             [
              0.4444444444444444,
              "#bd3786"
             ],
             [
              0.5555555555555556,
              "#d8576b"
             ],
             [
              0.6666666666666666,
              "#ed7953"
             ],
             [
              0.7777777777777778,
              "#fb9f3a"
             ],
             [
              0.8888888888888888,
              "#fdca26"
             ],
             [
              1,
              "#f0f921"
             ]
            ],
            "type": "surface"
           }
          ],
          "table": [
           {
            "cells": {
             "fill": {
              "color": "#506784"
             },
             "line": {
              "color": "rgb(17,17,17)"
             }
            },
            "header": {
             "fill": {
              "color": "#2a3f5f"
             },
             "line": {
              "color": "rgb(17,17,17)"
             }
            },
            "type": "table"
           }
          ]
         },
         "layout": {
          "annotationdefaults": {
           "arrowcolor": "#f2f5fa",
           "arrowhead": 0,
           "arrowwidth": 1
          },
          "autotypenumbers": "strict",
          "coloraxis": {
           "colorbar": {
            "outlinewidth": 0,
            "ticks": ""
           }
          },
          "colorscale": {
           "diverging": [
            [
             0,
             "#8e0152"
            ],
            [
             0.1,
             "#c51b7d"
            ],
            [
             0.2,
             "#de77ae"
            ],
            [
             0.3,
             "#f1b6da"
            ],
            [
             0.4,
             "#fde0ef"
            ],
            [
             0.5,
             "#f7f7f7"
            ],
            [
             0.6,
             "#e6f5d0"
            ],
            [
             0.7,
             "#b8e186"
            ],
            [
             0.8,
             "#7fbc41"
            ],
            [
             0.9,
             "#4d9221"
            ],
            [
             1,
             "#276419"
            ]
           ],
           "sequential": [
            [
             0,
             "#0d0887"
            ],
            [
             0.1111111111111111,
             "#46039f"
            ],
            [
             0.2222222222222222,
             "#7201a8"
            ],
            [
             0.3333333333333333,
             "#9c179e"
            ],
            [
             0.4444444444444444,
             "#bd3786"
            ],
            [
             0.5555555555555556,
             "#d8576b"
            ],
            [
             0.6666666666666666,
             "#ed7953"
            ],
            [
             0.7777777777777778,
             "#fb9f3a"
            ],
            [
             0.8888888888888888,
             "#fdca26"
            ],
            [
             1,
             "#f0f921"
            ]
           ],
           "sequentialminus": [
            [
             0,
             "#0d0887"
            ],
            [
             0.1111111111111111,
             "#46039f"
            ],
            [
             0.2222222222222222,
             "#7201a8"
            ],
            [
             0.3333333333333333,
             "#9c179e"
            ],
            [
             0.4444444444444444,
             "#bd3786"
            ],
            [
             0.5555555555555556,
             "#d8576b"
            ],
            [
             0.6666666666666666,
             "#ed7953"
            ],
            [
             0.7777777777777778,
             "#fb9f3a"
            ],
            [
             0.8888888888888888,
             "#fdca26"
            ],
            [
             1,
             "#f0f921"
            ]
           ]
          },
          "colorway": [
           "#636efa",
           "#EF553B",
           "#00cc96",
           "#ab63fa",
           "#FFA15A",
           "#19d3f3",
           "#FF6692",
           "#B6E880",
           "#FF97FF",
           "#FECB52"
          ],
          "font": {
           "color": "#f2f5fa"
          },
          "geo": {
           "bgcolor": "rgb(17,17,17)",
           "lakecolor": "rgb(17,17,17)",
           "landcolor": "rgb(17,17,17)",
           "showlakes": true,
           "showland": true,
           "subunitcolor": "#506784"
          },
          "hoverlabel": {
           "align": "left"
          },
          "hovermode": "closest",
          "mapbox": {
           "style": "dark"
          },
          "paper_bgcolor": "rgb(17,17,17)",
          "plot_bgcolor": "rgb(17,17,17)",
          "polar": {
           "angularaxis": {
            "gridcolor": "#506784",
            "linecolor": "#506784",
            "ticks": ""
           },
           "bgcolor": "rgb(17,17,17)",
           "radialaxis": {
            "gridcolor": "#506784",
            "linecolor": "#506784",
            "ticks": ""
           }
          },
          "scene": {
           "xaxis": {
            "backgroundcolor": "rgb(17,17,17)",
            "gridcolor": "#506784",
            "gridwidth": 2,
            "linecolor": "#506784",
            "showbackground": true,
            "ticks": "",
            "zerolinecolor": "#C8D4E3"
           },
           "yaxis": {
            "backgroundcolor": "rgb(17,17,17)",
            "gridcolor": "#506784",
            "gridwidth": 2,
            "linecolor": "#506784",
            "showbackground": true,
            "ticks": "",
            "zerolinecolor": "#C8D4E3"
           },
           "zaxis": {
            "backgroundcolor": "rgb(17,17,17)",
            "gridcolor": "#506784",
            "gridwidth": 2,
            "linecolor": "#506784",
            "showbackground": true,
            "ticks": "",
            "zerolinecolor": "#C8D4E3"
           }
          },
          "shapedefaults": {
           "line": {
            "color": "#f2f5fa"
           }
          },
          "sliderdefaults": {
           "bgcolor": "#C8D4E3",
           "bordercolor": "rgb(17,17,17)",
           "borderwidth": 1,
           "tickwidth": 0
          },
          "ternary": {
           "aaxis": {
            "gridcolor": "#506784",
            "linecolor": "#506784",
            "ticks": ""
           },
           "baxis": {
            "gridcolor": "#506784",
            "linecolor": "#506784",
            "ticks": ""
           },
           "bgcolor": "rgb(17,17,17)",
           "caxis": {
            "gridcolor": "#506784",
            "linecolor": "#506784",
            "ticks": ""
           }
          },
          "title": {
           "x": 0.05
          },
          "updatemenudefaults": {
           "bgcolor": "#506784",
           "borderwidth": 0
          },
          "xaxis": {
           "automargin": true,
           "gridcolor": "#283442",
           "linecolor": "#506784",
           "ticks": "",
           "title": {
            "standoff": 15
           },
           "zerolinecolor": "#283442",
           "zerolinewidth": 2
          },
          "yaxis": {
           "automargin": true,
           "gridcolor": "#283442",
           "linecolor": "#506784",
           "ticks": "",
           "title": {
            "standoff": 15
           },
           "zerolinecolor": "#283442",
           "zerolinewidth": 2
          }
         }
        },
        "title": {
         "font": {
          "size": 22
         },
         "text": "Length of Stay: Dr. Khan vs Global Averages"
        },
        "width": 1200,
        "xaxis": {
         "anchor": "y",
         "domain": [
          0,
          1
         ],
         "tickangle": -30,
         "title": {
          "text": "Diagnosis"
         }
        },
        "yaxis": {
         "anchor": "x",
         "domain": [
          0,
          1
         ],
         "title": {
          "text": "Length of Stay (days)"
         }
        }
       }
      },
      "image/png": "[encoded data removed]"
     },
     "metadata": {},
     "output_type": "display_data"
    }
   ],
   "source": [
    "#Plot no: 3 A Multiple Barplot comparing Length of Stay for that Particular doctor (For the particular severity + disease) and global average LOS for the same severity and disease\n",
    "\n",
    "plot3_data = data.groupby(['doctorname', 'severity', 'diagnosis'])['length_of_stay'].mean()\n",
    "plot3_data_glob = data.groupby(['severity', 'diagnosis'])['length_of_stay'].mean()\n",
    "\n",
    "plot3_data = plot3_data.reset_index()\n",
    "plot3_data_glob = plot3_data_glob.reset_index()\n",
    "\n",
    "\n",
    "plot3_data = pd.merge(plot3_data, plot3_data_glob, on=['severity', 'diagnosis'], how='inner')\n",
    "\n",
    "\n",
    "plot3_data['length_of_stay_y'] = plot3_data['length_of_stay_y'].astype(int)\n",
    "plot3_data['length_of_stay_x'] = plot3_data['length_of_stay_x'].astype(int)\n",
    "\n",
    "plot3_data.rename(columns={\n",
    "    'length_of_stay_x': 'Doctor Average LOS',\n",
    "    'length_of_stay_y': 'Global Average LOS'\n",
    "}, inplace=True)\n",
    "\n",
    "\n",
    "inp = input(\"Enter Doctor name: \")\n",
    "plot3_data = plot3_data[plot3_data['doctorname'] == inp]\n",
    "\n",
    "\n",
    "fig = px.bar(\n",
    "    plot3_data,\n",
    "    x=\"diagnosis\",  # diseases on x-axis\n",
    "    y=[\"Doctor Average LOS\", \"Global Average LOS\"],  # grouped bars\n",
    "    barmode=\"group\",\n",
    "    title=f\"Length of Stay: {inp} vs Global Averages\",\n",
    ")\n",
    "\n",
    "\n",
    "fig.update_layout(\n",
    "    template=\"plotly_dark\",          # dark background\n",
    "    plot_bgcolor=\"black\",            # black plotting area\n",
    "    paper_bgcolor=\"black\",           # black outside\n",
    "    font=dict(size=16, color=\"white\"),  # bigger readable font\n",
    "    title=dict(font=dict(size=22)),  # bigger title\n",
    "    legend=dict(\n",
    "        title=\"Comparison\",\n",
    "        font=dict(size=14, color=\"white\")\n",
    "    ),\n",
    "    xaxis=dict(title=\"Diagnosis\", tickangle=-30),  # rotate x labels\n",
    "    yaxis=dict(title=\"Length of Stay (days)\"),\n",
    "    height=800, width=1200           # bigger figure size\n",
    ")\n",
    "\n",
    "fig.show()"
   ]
  },
  {
   "cell_type": "code",
   "execution_count": null,
   "id": "cc662e2a-0ae4-4a9e-9e50-a267d2da64b7",
   "metadata": {},
   "outputs": [],
   "source": []
  }
 ],
 "metadata": {
  "kernelspec": {
   "display_name": "Python 3 (ipykernel)",
   "language": "python",
   "name": "python3"
  },
  "language_info": {
   "codemirror_mode": {
    "name": "ipython",
    "version": 3
   },
   "file_extension": ".py",
   "mimetype": "text/x-python",
   "name": "python",
   "nbconvert_exporter": "python",
   "pygments_lexer": "ipython3",
   "version": "3.12.11"
  }
 },
 "nbformat": 4,
 "nbformat_minor": 5
}
